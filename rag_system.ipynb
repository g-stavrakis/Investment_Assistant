{
 "cells": [
  {
   "cell_type": "code",
   "execution_count": 1,
   "metadata": {},
   "outputs": [],
   "source": [
    "# Importing necessary libraries\n",
    "import pandas as pd\n",
    "from elasticsearch import Elasticsearch\n",
    "from tqdm import tqdm\n",
    "from openai import OpenAI\n",
    "from dotenv import load_dotenv\n",
    "import os"
   ]
  },
  {
   "cell_type": "code",
   "execution_count": 2,
   "metadata": {},
   "outputs": [
    {
     "data": {
      "text/plain": [
       "True"
      ]
     },
     "execution_count": 2,
     "metadata": {},
     "output_type": "execute_result"
    }
   ],
   "source": [
    "# Load environment variables from .envrc for the Chat GPT\n",
    "load_dotenv(\".envrc\")"
   ]
  },
  {
   "cell_type": "markdown",
   "metadata": {},
   "source": [
    "### Load and Prepare the data\n",
    "\n",
    "To prepare the data to be ingested in the elastic search we will:\n",
    "1. Load the cleaned data \n",
    "2. Convert the cleaned data to a list of dictionaries - what elastic search expects as a document"
   ]
  },
  {
   "cell_type": "code",
   "execution_count": 3,
   "metadata": {},
   "outputs": [
    {
     "data": {
      "text/html": [
       "<div>\n",
       "<style scoped>\n",
       "    .dataframe tbody tr th:only-of-type {\n",
       "        vertical-align: middle;\n",
       "    }\n",
       "\n",
       "    .dataframe tbody tr th {\n",
       "        vertical-align: top;\n",
       "    }\n",
       "\n",
       "    .dataframe thead th {\n",
       "        text-align: right;\n",
       "    }\n",
       "</style>\n",
       "<table border=\"1\" class=\"dataframe\">\n",
       "  <thead>\n",
       "    <tr style=\"text-align: right;\">\n",
       "      <th></th>\n",
       "      <th>question</th>\n",
       "      <th>answer</th>\n",
       "      <th>context</th>\n",
       "      <th>ticker</th>\n",
       "      <th>filing</th>\n",
       "      <th>company</th>\n",
       "      <th>id</th>\n",
       "    </tr>\n",
       "  </thead>\n",
       "  <tbody>\n",
       "    <tr>\n",
       "      <th>0</th>\n",
       "      <td>What area did NVIDIA initially focus on before...</td>\n",
       "      <td>NVIDIA initially focused on PC graphics.</td>\n",
       "      <td>Since our original focus on PC graphics, we ha...</td>\n",
       "      <td>NVDA</td>\n",
       "      <td>2023_10K</td>\n",
       "      <td>Nvidia Corporation</td>\n",
       "      <td>4f2ccc3b</td>\n",
       "    </tr>\n",
       "    <tr>\n",
       "      <th>1</th>\n",
       "      <td>What are some of the recent applications of GP...</td>\n",
       "      <td>Recent applications of GPU-powered deep learni...</td>\n",
       "      <td>Some of the most recent applications of GPU-po...</td>\n",
       "      <td>NVDA</td>\n",
       "      <td>2023_10K</td>\n",
       "      <td>Nvidia Corporation</td>\n",
       "      <td>ee4ed04f</td>\n",
       "    </tr>\n",
       "    <tr>\n",
       "      <th>2</th>\n",
       "      <td>What significant invention did NVIDIA create i...</td>\n",
       "      <td>NVIDIA invented the GPU in 1999.</td>\n",
       "      <td>Our invention of the GPU in 1999 defined moder...</td>\n",
       "      <td>NVDA</td>\n",
       "      <td>2023_10K</td>\n",
       "      <td>Nvidia Corporation</td>\n",
       "      <td>7eac6b57</td>\n",
       "    </tr>\n",
       "    <tr>\n",
       "      <th>3</th>\n",
       "      <td>How does NVIDIA's platform strategy contribute...</td>\n",
       "      <td>NVIDIA's platform strategy brings together har...</td>\n",
       "      <td>NVIDIA has a platform strategy, bringing toget...</td>\n",
       "      <td>NVDA</td>\n",
       "      <td>2023_10K</td>\n",
       "      <td>Nvidia Corporation</td>\n",
       "      <td>eb49bbd0</td>\n",
       "    </tr>\n",
       "    <tr>\n",
       "      <th>4</th>\n",
       "      <td>What does NVIDIA's CUDA programming model enable?</td>\n",
       "      <td>NVIDIA's CUDA programming model opened the par...</td>\n",
       "      <td>With our introduction of the CUDA programming ...</td>\n",
       "      <td>NVDA</td>\n",
       "      <td>2023_10K</td>\n",
       "      <td>Nvidia Corporation</td>\n",
       "      <td>3e4c199c</td>\n",
       "    </tr>\n",
       "  </tbody>\n",
       "</table>\n",
       "</div>"
      ],
      "text/plain": [
       "                                            question  \\\n",
       "0  What area did NVIDIA initially focus on before...   \n",
       "1  What are some of the recent applications of GP...   \n",
       "2  What significant invention did NVIDIA create i...   \n",
       "3  How does NVIDIA's platform strategy contribute...   \n",
       "4  What does NVIDIA's CUDA programming model enable?   \n",
       "\n",
       "                                              answer  \\\n",
       "0           NVIDIA initially focused on PC graphics.   \n",
       "1  Recent applications of GPU-powered deep learni...   \n",
       "2                   NVIDIA invented the GPU in 1999.   \n",
       "3  NVIDIA's platform strategy brings together har...   \n",
       "4  NVIDIA's CUDA programming model opened the par...   \n",
       "\n",
       "                                             context ticker    filing  \\\n",
       "0  Since our original focus on PC graphics, we ha...   NVDA  2023_10K   \n",
       "1  Some of the most recent applications of GPU-po...   NVDA  2023_10K   \n",
       "2  Our invention of the GPU in 1999 defined moder...   NVDA  2023_10K   \n",
       "3  NVIDIA has a platform strategy, bringing toget...   NVDA  2023_10K   \n",
       "4  With our introduction of the CUDA programming ...   NVDA  2023_10K   \n",
       "\n",
       "              company        id  \n",
       "0  Nvidia Corporation  4f2ccc3b  \n",
       "1  Nvidia Corporation  ee4ed04f  \n",
       "2  Nvidia Corporation  7eac6b57  \n",
       "3  Nvidia Corporation  eb49bbd0  \n",
       "4  Nvidia Corporation  3e4c199c  "
      ]
     },
     "execution_count": 3,
     "metadata": {},
     "output_type": "execute_result"
    }
   ],
   "source": [
    "# Read the prepared data\n",
    "data = pd.read_csv('data/investment_data.csv')\n",
    "# Explore the first rows of data\n",
    "data.head()"
   ]
  },
  {
   "cell_type": "code",
   "execution_count": 4,
   "metadata": {},
   "outputs": [
    {
     "data": {
      "text/plain": [
       "[{'question': 'What area did NVIDIA initially focus on before expanding to other computationally intensive fields?',\n",
       "  'answer': 'NVIDIA initially focused on PC graphics.',\n",
       "  'context': 'Since our original focus on PC graphics, we have expanded to several other large and important computationally intensive fields.',\n",
       "  'ticker': 'NVDA',\n",
       "  'filing': '2023_10K',\n",
       "  'company': 'Nvidia Corporation',\n",
       "  'id': '4f2ccc3b'},\n",
       " {'question': 'What are some of the recent applications of GPU-powered deep learning as mentioned by NVIDIA?',\n",
       "  'answer': 'Recent applications of GPU-powered deep learning include recommendation systems, large language models, and generative AI.',\n",
       "  'context': 'Some of the most recent applications of GPU-powered deep learning include recommendation systems, which are AI algorithms trained to understand the preferences, previous decisions, and characteristics of people and products using data gathered about their interactions, large language models, which can recognize, summarize, translate, predict and generate text and other content based on knowledge gained from massive datasets, and generative AI, which uses algorithms that create new content, including audio, code, images, text, simulations, and videos, based on the data they have been trained on.',\n",
       "  'ticker': 'NVDA',\n",
       "  'filing': '2023_10K',\n",
       "  'company': 'Nvidia Corporation',\n",
       "  'id': 'ee4ed04f'}]"
      ]
     },
     "execution_count": 4,
     "metadata": {},
     "output_type": "execute_result"
    }
   ],
   "source": [
    "# Convert the dataframe into a list of dictionaries for each record\n",
    "records = data.to_dict(orient='records')\n",
    "# Examine the first 2 QA records\n",
    "records[:2]"
   ]
  },
  {
   "cell_type": "markdown",
   "metadata": {},
   "source": [
    "### Set up Elastic Search\n",
    "\n",
    "In this part we will configure and create an Elastic search index to store the QA information. To do that we will:\n",
    "1. Run the elastic search docker container and bind it to a local port\n",
    "2. Import and initialize the elastic search client on that port\n",
    "4. Configure the schema and name of the index - will contain both text data along with embedding data - for now it will be be just the text fields\n",
    "5. Create the elastic search index\n",
    "6. Add all the documents to the index"
   ]
  },
  {
   "cell_type": "code",
   "execution_count": 5,
   "metadata": {},
   "outputs": [],
   "source": [
    "# Initialize the client \n",
    "es_client = Elasticsearch('http://localhost:9200')"
   ]
  },
  {
   "cell_type": "code",
   "execution_count": 6,
   "metadata": {},
   "outputs": [],
   "source": [
    "# Create the Schema of the Elastic Search Index\n",
    "index_settings = {\n",
    "    \"settings\": {\n",
    "        \"number_of_shards\": 1,\n",
    "        \"number_of_replicas\": 0\n",
    "    },\n",
    "    \"mappings\": {\n",
    "        \"properties\": {\n",
    "            \"question\": {\"type\": \"text\"},\n",
    "            \"answer\": {\"type\": \"text\"},\n",
    "            \"context\": {\"type\": \"text\"},\n",
    "            \"ticker\": {\"type\": \"keyword\"}, \n",
    "            \"company\": {\"type\": \"keyword\"},\n",
    "            \"id\": {\"type\": \"keyword\"}\n",
    "        }\n",
    "    }\n",
    "}"
   ]
  },
  {
   "cell_type": "code",
   "execution_count": 7,
   "metadata": {},
   "outputs": [
    {
     "name": "stdout",
     "output_type": "stream",
     "text": [
      "{'acknowledged': True, 'shards_acknowledged': True, 'index': 'investment-info'}\n"
     ]
    }
   ],
   "source": [
    "# Provide the name of the index\n",
    "index_name = \"investment-info\"\n",
    "# Check if the index exists\n",
    "if es_client.indices.exists(index=index_name):\n",
    "    # Delete the existing index\n",
    "    es_client.indices.delete(index=index_name)\n",
    "# Create the elastic search index\n",
    "response = es_client.indices.create(index=index_name, body=index_settings)\n",
    "# Verify that elastic search is created\n",
    "print(response)"
   ]
  },
  {
   "cell_type": "code",
   "execution_count": 8,
   "metadata": {},
   "outputs": [
    {
     "name": "stderr",
     "output_type": "stream",
     "text": [
      "100%|██████████| 6990/6990 [00:14<00:00, 483.22it/s]\n"
     ]
    }
   ],
   "source": [
    "# Fetch all the documents into the elastic search index\n",
    "for record in tqdm(records):\n",
    "    es_client.index(index = index_name, document=record)"
   ]
  },
  {
   "cell_type": "markdown",
   "metadata": {},
   "source": [
    "### Information Retrieval\n",
    "\n",
    "To retrieve the relevant records to user's query we will:\n",
    "1. Create the request body for the elastic search by specified the fields need to examined for the retrieval process\n",
    "2. Make a search request to the created index\n",
    "3. Parse the documents retrieved from the search request  "
   ]
  },
  {
   "cell_type": "code",
   "execution_count": 9,
   "metadata": {},
   "outputs": [],
   "source": [
    "# Create a text search function to retrieve document form the elastic search\n",
    "def document_search(query):\n",
    "    # Create the query\n",
    "    search_query = {\n",
    "        # Specifying the number of documents to be retrieved\n",
    "        \"size\": 5,\n",
    "        \"query\": {\n",
    "            \"bool\": {\n",
    "                \"must\": {\n",
    "                    \"multi_match\": {\n",
    "                        # Add the user query\n",
    "                        \"query\": query,\n",
    "                        # Include the text fields to search\n",
    "                        \"fields\": [\"question^2\", \"answer\", \"context\"], # Give a boosting of 2 in the question field\n",
    "                        \"type\": \"best_fields\"\n",
    "                    }\n",
    "            }\n",
    "        }\n",
    "    }\n",
    "    }\n",
    "    # Query the Elastic Search \n",
    "    response = es_client.search(index=index_name, body=search_query)\n",
    "\n",
    "    # Parse the response of elastic search\n",
    "    results = []\n",
    "    for hit in response['hits']['hits']:\n",
    "        results.append(hit['_source'])\n",
    "    \n",
    "    return results"
   ]
  },
  {
   "cell_type": "code",
   "execution_count": 11,
   "metadata": {},
   "outputs": [
    {
     "data": {
      "text/plain": [
       "[{'question': \"Where can NVIDIA's financial reports be accessed?\",\n",
       "  'answer': \"NVIDIA's financial reports can be accessed for free on their website or through links provided on the website as soon as they are electronically filed or furnished to the SEC.\",\n",
       "  'context': 'Available Information Our annual reports on Form 10-K, quarterly reports on Form 10-Q, current reports on Form 8-K and, if applicable, amendments to those reports filed or furnished pursuant to Section 13(a) or 15(d) of the Securities Exchange Act of 1934, as amended, or the Exchange Act, are available free of charge on or through our website, http://www.nvidia.com, as soon as reasonably practicable after we electronically file such material with, or furnish it to, the Securities and Exchange Commission, or the SEC.',\n",
       "  'ticker': 'NVDA',\n",
       "  'filing': '2023_10K',\n",
       "  'company': 'Nvidia Corporation',\n",
       "  'id': 'cf09a223'},\n",
       " {'question': \"Where can one find information about a company's legal proceedings in its financial reports?\",\n",
       "  'answer': \"Information about a company's legal proceedings can be found in Note 12 to the Consolidated Financial Statements.\",\n",
       "  'context': 'For information on legal proceedings, Note 12 to the Consolidated Financial Statements contains the relevant details.',\n",
       "  'ticker': 'AXP',\n",
       "  'filing': '2023_10K',\n",
       "  'company': 'American Express Company',\n",
       "  'id': 'ab6b7464'}]"
      ]
     },
     "execution_count": 11,
     "metadata": {},
     "output_type": "execute_result"
    }
   ],
   "source": [
    "# Test the retrieval part\n",
    "query = \"Where can I find NVIDIA's financial reports?\"\n",
    "retrieved_docs = document_search(query)\n",
    "\n",
    "retrieved_docs[:2]"
   ]
  },
  {
   "cell_type": "markdown",
   "metadata": {},
   "source": [
    "### Prompt Generation\n",
    "\n",
    "To generate a prompt for a model using information from our own knowledge base we need to:\n",
    "1. Create a prompt template that will have some instuction for the model to follow - role and task\n",
    "2. We will create the context for the model to answer upon using the most relevant documents retrieved from our knowledge base\n",
    "3. Include the query of the user along with the relevant context in a prompt for the LLM to utilize to provide an informative answer"
   ]
  },
  {
   "cell_type": "code",
   "execution_count": 12,
   "metadata": {},
   "outputs": [],
   "source": [
    "# Create the function will generate the context\n",
    "def context_generation(retrieved_docs):\n",
    "    # Initialize context\n",
    "    context = ''\n",
    "    # Create context for each document\n",
    "    for record in retrieved_docs:\n",
    "        context += 'question: {question} answer: {answer} \\n\\n'.format(**record)\n",
    "    # Return context\n",
    "    return context"
   ]
  },
  {
   "cell_type": "code",
   "execution_count": 13,
   "metadata": {},
   "outputs": [],
   "source": [
    "# Create a function to create the prompt\n",
    "def prompt_generation(query, retrieved_docs):\n",
    "    # Create the prompt template\n",
    "    prompt_template = '''\n",
    "    You are an Investment Assistant with deep expertise in financial markets.\n",
    "    Provide a fact-based answer to the user's QUESTION strictly using the information provided in the CONTEXT. \n",
    "    Do not include opinions or external knowledge.\n",
    "\n",
    "    QUESTION: {question}\n",
    "\n",
    "    CONTEXT: \n",
    "    {context}\n",
    "    '''.strip()\n",
    "    # Create the context\n",
    "    prompt_context = {}\n",
    "    prompt_context['question'] = query\n",
    "    prompt_context['context'] = context_generation(retrieved_docs)\n",
    "    # Generate the prompt\n",
    "    prompt = prompt_template.format(**prompt_context)\n",
    "    return prompt"
   ]
  },
  {
   "cell_type": "markdown",
   "metadata": {},
   "source": [
    "### LLM set up\n",
    "\n",
    "For the LLM part of the RAG system we will use OpenAI's API and more specifically the gpt-4o-mini model. To use this model in our application:\n",
    "1. Went to the OpenAI and generated a api key\n",
    "2. Saved and load the key to an environment variable\n",
    "3. Initialize the OpenAI instance to make a request to the OpenAI API endpoint\n",
    "4. Create a function to make a request to the completion model and parse its response"
   ]
  },
  {
   "cell_type": "code",
   "execution_count": 14,
   "metadata": {},
   "outputs": [],
   "source": [
    "# Initialize the openai instance\n",
    "client = OpenAI()"
   ]
  },
  {
   "cell_type": "code",
   "execution_count": 15,
   "metadata": {},
   "outputs": [],
   "source": [
    "# Create the function to request an answer from an LLM\n",
    "def ask_llm(prompt, model='gpt-4o-mini'):\n",
    "    # Create the request body and make the request\n",
    "    response = client.chat.completions.create(\n",
    "        model=model,\n",
    "        messages=[{\"role\": \"user\", \"content\": prompt}]\n",
    "    )\n",
    "    \n",
    "    return response.choices[0].message.content"
   ]
  },
  {
   "cell_type": "markdown",
   "metadata": {},
   "source": [
    "### RAG System\n",
    "\n",
    "To create a fully functional RAG system we will create a function:\n",
    "1. To search the provided knowledge base and retieve the necessary documents\n",
    "2. To create the prompt using the user query and the context retrieved from the search\n",
    "3. Use an LLM model to generate a response based on the user query"
   ]
  },
  {
   "cell_type": "code",
   "execution_count": 17,
   "metadata": {},
   "outputs": [],
   "source": [
    "# Create the RAG function combining all the above information\n",
    "def investment_assistant(query):\n",
    "    # Retrieve the relevant documents\n",
    "    relevant_docs = document_search(query)\n",
    "    # Create the prompt for the model\n",
    "    prompt = prompt_generation(query, relevant_docs)\n",
    "    # Ask the LLM model\n",
    "    response = ask_llm(prompt)\n",
    "    return response"
   ]
  },
  {
   "cell_type": "code",
   "execution_count": 18,
   "metadata": {},
   "outputs": [
    {
     "name": "stdout",
     "output_type": "stream",
     "text": [
      "NVIDIA's financial reports can be accessed for free on their website or through links provided on the website as soon as they are electronically filed or furnished to the SEC.\n"
     ]
    }
   ],
   "source": [
    "# Create a prompt to test rag system\n",
    "query = \"Where can I find NVIDIA's financial reports?\"\n",
    "# Test RAG system\n",
    "answer = investment_assistant(query)\n",
    "# Examine the response\n",
    "print(answer)"
   ]
  }
 ],
 "metadata": {
  "kernelspec": {
   "display_name": "LLMZoomcamp",
   "language": "python",
   "name": "python3"
  },
  "language_info": {
   "codemirror_mode": {
    "name": "ipython",
    "version": 3
   },
   "file_extension": ".py",
   "mimetype": "text/x-python",
   "name": "python",
   "nbconvert_exporter": "python",
   "pygments_lexer": "ipython3",
   "version": "3.10.14"
  }
 },
 "nbformat": 4,
 "nbformat_minor": 2
}
