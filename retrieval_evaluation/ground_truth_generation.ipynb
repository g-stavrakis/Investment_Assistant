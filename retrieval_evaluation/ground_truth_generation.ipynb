{
 "cells": [
  {
   "cell_type": "markdown",
   "metadata": {},
   "source": [
    "# Create the Ground truth dataset for retrieval evaluation\n",
    "\n",
    "Ground truth is the dataset that contains all the relevant documents that should be retrieved from each query. Consider this as a label dataset that we know in advance the correct documents we need to retrieve for each query.\n",
    "\n",
    "- You can create a ground truth in various ways such as Human annotators or User interaction annotators however in our case we will use LLM synthetic data\n",
    "- We will use an LLM to generate a number of synthetic user questions for each record/document that we want to retrieve"
   ]
  },
  {
   "cell_type": "code",
   "execution_count": 59,
   "metadata": {},
   "outputs": [],
   "source": [
    "# Importing necessary libraries\n",
    "import pandas as pd\n",
    "import numpy as np\n",
    "from tqdm import tqdm\n",
    "from openai import OpenAI\n",
    "from dotenv import load_dotenv\n",
    "import os\n",
    "import json"
   ]
  },
  {
   "cell_type": "code",
   "execution_count": 4,
   "metadata": {},
   "outputs": [
    {
     "data": {
      "text/plain": [
       "True"
      ]
     },
     "execution_count": 4,
     "metadata": {},
     "output_type": "execute_result"
    }
   ],
   "source": [
    "# Load environment variables from .envrc for the Chat GPT\n",
    "load_dotenv(\"../.envrc\")"
   ]
  },
  {
   "cell_type": "code",
   "execution_count": 5,
   "metadata": {},
   "outputs": [
    {
     "data": {
      "text/html": [
       "<div>\n",
       "<style scoped>\n",
       "    .dataframe tbody tr th:only-of-type {\n",
       "        vertical-align: middle;\n",
       "    }\n",
       "\n",
       "    .dataframe tbody tr th {\n",
       "        vertical-align: top;\n",
       "    }\n",
       "\n",
       "    .dataframe thead th {\n",
       "        text-align: right;\n",
       "    }\n",
       "</style>\n",
       "<table border=\"1\" class=\"dataframe\">\n",
       "  <thead>\n",
       "    <tr style=\"text-align: right;\">\n",
       "      <th></th>\n",
       "      <th>question</th>\n",
       "      <th>answer</th>\n",
       "      <th>context</th>\n",
       "      <th>ticker</th>\n",
       "      <th>filing</th>\n",
       "      <th>company</th>\n",
       "      <th>id</th>\n",
       "    </tr>\n",
       "  </thead>\n",
       "  <tbody>\n",
       "    <tr>\n",
       "      <th>0</th>\n",
       "      <td>What area did NVIDIA initially focus on before...</td>\n",
       "      <td>NVIDIA initially focused on PC graphics.</td>\n",
       "      <td>Since our original focus on PC graphics, we ha...</td>\n",
       "      <td>NVDA</td>\n",
       "      <td>2023_10K</td>\n",
       "      <td>Nvidia Corporation</td>\n",
       "      <td>4f2ccc3b</td>\n",
       "    </tr>\n",
       "    <tr>\n",
       "      <th>1</th>\n",
       "      <td>What are some of the recent applications of GP...</td>\n",
       "      <td>Recent applications of GPU-powered deep learni...</td>\n",
       "      <td>Some of the most recent applications of GPU-po...</td>\n",
       "      <td>NVDA</td>\n",
       "      <td>2023_10K</td>\n",
       "      <td>Nvidia Corporation</td>\n",
       "      <td>ee4ed04f</td>\n",
       "    </tr>\n",
       "    <tr>\n",
       "      <th>2</th>\n",
       "      <td>What significant invention did NVIDIA create i...</td>\n",
       "      <td>NVIDIA invented the GPU in 1999.</td>\n",
       "      <td>Our invention of the GPU in 1999 defined moder...</td>\n",
       "      <td>NVDA</td>\n",
       "      <td>2023_10K</td>\n",
       "      <td>Nvidia Corporation</td>\n",
       "      <td>7eac6b57</td>\n",
       "    </tr>\n",
       "    <tr>\n",
       "      <th>3</th>\n",
       "      <td>How does NVIDIA's platform strategy contribute...</td>\n",
       "      <td>NVIDIA's platform strategy brings together har...</td>\n",
       "      <td>NVIDIA has a platform strategy, bringing toget...</td>\n",
       "      <td>NVDA</td>\n",
       "      <td>2023_10K</td>\n",
       "      <td>Nvidia Corporation</td>\n",
       "      <td>eb49bbd0</td>\n",
       "    </tr>\n",
       "    <tr>\n",
       "      <th>4</th>\n",
       "      <td>What does NVIDIA's CUDA programming model enable?</td>\n",
       "      <td>NVIDIA's CUDA programming model opened the par...</td>\n",
       "      <td>With our introduction of the CUDA programming ...</td>\n",
       "      <td>NVDA</td>\n",
       "      <td>2023_10K</td>\n",
       "      <td>Nvidia Corporation</td>\n",
       "      <td>3e4c199c</td>\n",
       "    </tr>\n",
       "  </tbody>\n",
       "</table>\n",
       "</div>"
      ],
      "text/plain": [
       "                                            question  \\\n",
       "0  What area did NVIDIA initially focus on before...   \n",
       "1  What are some of the recent applications of GP...   \n",
       "2  What significant invention did NVIDIA create i...   \n",
       "3  How does NVIDIA's platform strategy contribute...   \n",
       "4  What does NVIDIA's CUDA programming model enable?   \n",
       "\n",
       "                                              answer  \\\n",
       "0           NVIDIA initially focused on PC graphics.   \n",
       "1  Recent applications of GPU-powered deep learni...   \n",
       "2                   NVIDIA invented the GPU in 1999.   \n",
       "3  NVIDIA's platform strategy brings together har...   \n",
       "4  NVIDIA's CUDA programming model opened the par...   \n",
       "\n",
       "                                             context ticker    filing  \\\n",
       "0  Since our original focus on PC graphics, we ha...   NVDA  2023_10K   \n",
       "1  Some of the most recent applications of GPU-po...   NVDA  2023_10K   \n",
       "2  Our invention of the GPU in 1999 defined moder...   NVDA  2023_10K   \n",
       "3  NVIDIA has a platform strategy, bringing toget...   NVDA  2023_10K   \n",
       "4  With our introduction of the CUDA programming ...   NVDA  2023_10K   \n",
       "\n",
       "              company        id  \n",
       "0  Nvidia Corporation  4f2ccc3b  \n",
       "1  Nvidia Corporation  ee4ed04f  \n",
       "2  Nvidia Corporation  7eac6b57  \n",
       "3  Nvidia Corporation  eb49bbd0  \n",
       "4  Nvidia Corporation  3e4c199c  "
      ]
     },
     "execution_count": 5,
     "metadata": {},
     "output_type": "execute_result"
    }
   ],
   "source": [
    "# Read the prepared data\n",
    "data = pd.read_csv('../data/investment_data.csv')\n",
    "# Explore the first rows of data\n",
    "data.head()"
   ]
  },
  {
   "cell_type": "code",
   "execution_count": 28,
   "metadata": {},
   "outputs": [
    {
     "data": {
      "text/plain": [
       "array(['NVDA', 'AAPL', 'TSLA', 'LULU', 'PG', 'COST', 'ABNB', 'MSFT',\n",
       "       'BRK-A', 'META', 'AXP', 'PTON', 'SBUX', 'NKE', 'PLTR', 'AMZN',\n",
       "       'NFLX', 'GOOGL', 'ABBV', 'V', 'GME', 'AMC', 'CRM', 'LLY', 'AVGO',\n",
       "       'UNH', 'JNJ', 'HD', 'WMT', 'AMD', 'CVX', 'BAC', 'KO', 'T', 'AZO',\n",
       "       'CAT', 'SCHW', 'CMG', 'CB', 'CMCSA', 'CVS', 'DVA', 'DAL', 'DLTR',\n",
       "       'EBAY', 'EA', 'ENPH', 'EFX', 'ETSY', 'FDX', 'F', 'GRMN', 'GIS',\n",
       "       'GM', 'GILD', 'GS', 'HAS', 'HSY', 'HPE', 'HLT', 'HPQ', 'HUM',\n",
       "       'IBM', 'ICE', 'INTU', 'IRM', 'JPM', 'KR', 'LVS'], dtype=object)"
      ]
     },
     "execution_count": 28,
     "metadata": {},
     "output_type": "execute_result"
    }
   ],
   "source": [
    "# Create a sample dataset from these records to evaluate the retieval part\n",
    "data.ticker.unique()"
   ]
  },
  {
   "cell_type": "code",
   "execution_count": 22,
   "metadata": {},
   "outputs": [],
   "source": [
    "# To create a reproducable sample of data to evaluate the retrieval method taking into account 15 records per company\n",
    "np.random.seed(123)\n",
    "# Create the sample dataset to generate the ground trouth for\n",
    "sample = data.groupby('ticker').apply(lambda x: x.sample(15)).reset_index(drop=True)"
   ]
  },
  {
   "cell_type": "code",
   "execution_count": 30,
   "metadata": {},
   "outputs": [
    {
     "data": {
      "text/plain": [
       "[{'question': 'During 2023, what percentage of the Company’s net sales came from direct sales channels?',\n",
       "  'answer': \"During 2023, 37% of the Company's net sales came from direct sales channels.\",\n",
       "  'context': 'During 2023, the Company’s net sales through its direct and indirect distribution channels accounted for 37% and 63%, respectively, of total net sales.',\n",
       "  'ticker': 'AAPL',\n",
       "  'filing': '2023_10K',\n",
       "  'company': 'Apple Inc.',\n",
       "  'id': '23a4214a'},\n",
       " {'question': 'What were the main reasons for the year-over-year growth in R&D expense in 2023?',\n",
       "  'answer': 'Increases in headcount-related expenses.',\n",
       "  'context': 'Research and Development The year-over-year growth in R&D expense in 2023 was driven primarily by increases in headcount-related expenses.',\n",
       "  'ticker': 'AAPL',\n",
       "  'filing': '2023_10K',\n",
       "  'company': 'Apple Inc.',\n",
       "  'id': 'f5f5ee2a'}]"
      ]
     },
     "execution_count": 30,
     "metadata": {},
     "output_type": "execute_result"
    }
   ],
   "source": [
    "# Convert the dataframe into a list of dictionaries for each record\n",
    "records = sample.to_dict(orient='records')\n",
    "# Examine the first 2 QA records\n",
    "records[:2]"
   ]
  },
  {
   "cell_type": "code",
   "execution_count": 37,
   "metadata": {},
   "outputs": [],
   "source": [
    "# Create the prompt template for the LLM\n",
    "prompt_template = \"\"\"\n",
    "You emulate a user who wants to ask for information about some companies in the stock market.\n",
    "Formulate 5 questions this user might ask based on a FAQ record. The record\n",
    "should contain the answer to the questions, and the questions should be complete and not too short.\n",
    "If possible, use as fewer words as possible from the record. \n",
    "\n",
    "The record:\n",
    "\n",
    "question: {question}\n",
    "answer: {answer}\n",
    "context: {context}\n",
    "company; {company}\n",
    "ticker: {ticker}\n",
    "\n",
    "Provide the output in parsable JSON without using code blocks:\n",
    "\n",
    "[\"question1\", \"question2\", ..., \"question5\"]\n",
    "\"\"\".strip()"
   ]
  },
  {
   "cell_type": "code",
   "execution_count": 39,
   "metadata": {},
   "outputs": [],
   "source": [
    "# Initialize the openai instance\n",
    "client = OpenAI()"
   ]
  },
  {
   "cell_type": "code",
   "execution_count": 40,
   "metadata": {},
   "outputs": [],
   "source": [
    "# Create the function to generate the questions\n",
    "def generate_questions(record):\n",
    "    # Create the prompt from a template\n",
    "    prompt = prompt_template.format(**record)\n",
    "    # Request from the model\n",
    "    full_response = client.chat.completions.create(\n",
    "        model = 'gpt-4o-mini',\n",
    "        messages = [{\"role\": \"user\", \"content\": prompt}])\n",
    "    # Parse the response\n",
    "    response = full_response.choices[0].message.content\n",
    "    return response"
   ]
  },
  {
   "cell_type": "code",
   "execution_count": 45,
   "metadata": {},
   "outputs": [],
   "source": [
    "# Initialize the answers\n",
    "ground_truth_answers = {}"
   ]
  },
  {
   "cell_type": "code",
   "execution_count": 46,
   "metadata": {},
   "outputs": [
    {
     "name": "stderr",
     "output_type": "stream",
     "text": [
      "100%|██████████| 1035/1035 [28:30<00:00,  1.65s/it]\n"
     ]
    }
   ],
   "source": [
    "for record in tqdm(records): \n",
    "    record_id = record['id']\n",
    "    # Create a cache so in case tha the rag breaks we don't need to rerun it\n",
    "    if record_id in ground_truth_answers:\n",
    "        continue\n",
    "    # Generate the user question by the LLM\n",
    "    questions = generate_questions(record)\n",
    "    # Saving the questions for each record\n",
    "    ground_truth_answers[record_id] = questions"
   ]
  },
  {
   "cell_type": "code",
   "execution_count": 61,
   "metadata": {},
   "outputs": [],
   "source": [
    "# Parsing the generated results\n",
    "gt_ids =[]\n",
    "gt_questions = []\n",
    "gt_company = []\n",
    "\n",
    "for ids, user_q in ground_truth_answers.items():\n",
    "    # Parsing all model generated user queries\n",
    "    user_queries = json.loads(user_q)\n",
    "    for u_q in user_queries:\n",
    "        # Getting all the document ids in a list\n",
    "        gt_ids.append(ids)\n",
    "        # Getting the company of the record\n",
    "        gt_company.append(sample[sample['id'] == ids].company.values[0])\n",
    "        # Adding the user queries\n",
    "        gt_questions.append(u_q)\n",
    "# Shaping the result into a dictionary\n",
    "gt_results = {'question': gt_questions, 'id': gt_ids, 'company': gt_company}"
   ]
  },
  {
   "cell_type": "code",
   "execution_count": 65,
   "metadata": {},
   "outputs": [
    {
     "data": {
      "text/html": [
       "<div>\n",
       "<style scoped>\n",
       "    .dataframe tbody tr th:only-of-type {\n",
       "        vertical-align: middle;\n",
       "    }\n",
       "\n",
       "    .dataframe tbody tr th {\n",
       "        vertical-align: top;\n",
       "    }\n",
       "\n",
       "    .dataframe thead th {\n",
       "        text-align: right;\n",
       "    }\n",
       "</style>\n",
       "<table border=\"1\" class=\"dataframe\">\n",
       "  <thead>\n",
       "    <tr style=\"text-align: right;\">\n",
       "      <th></th>\n",
       "      <th>question</th>\n",
       "      <th>id</th>\n",
       "      <th>company</th>\n",
       "    </tr>\n",
       "  </thead>\n",
       "  <tbody>\n",
       "    <tr>\n",
       "      <th>0</th>\n",
       "      <td>What was the contribution of direct sales chan...</td>\n",
       "      <td>23a4214a</td>\n",
       "      <td>Apple Inc.</td>\n",
       "    </tr>\n",
       "    <tr>\n",
       "      <th>1</th>\n",
       "      <td>Can you tell me the percentage of total net sa...</td>\n",
       "      <td>23a4214a</td>\n",
       "      <td>Apple Inc.</td>\n",
       "    </tr>\n",
       "    <tr>\n",
       "      <th>2</th>\n",
       "      <td>In 2023, how much of the Company's sales came ...</td>\n",
       "      <td>23a4214a</td>\n",
       "      <td>Apple Inc.</td>\n",
       "    </tr>\n",
       "    <tr>\n",
       "      <th>3</th>\n",
       "      <td>For the Company in 2023, what fraction of net ...</td>\n",
       "      <td>23a4214a</td>\n",
       "      <td>Apple Inc.</td>\n",
       "    </tr>\n",
       "    <tr>\n",
       "      <th>4</th>\n",
       "      <td>What portion of the Company's net sales was so...</td>\n",
       "      <td>23a4214a</td>\n",
       "      <td>Apple Inc.</td>\n",
       "    </tr>\n",
       "    <tr>\n",
       "      <th>5</th>\n",
       "      <td>What factors contributed to the growth in R&amp;D ...</td>\n",
       "      <td>f5f5ee2a</td>\n",
       "      <td>Apple Inc.</td>\n",
       "    </tr>\n",
       "    <tr>\n",
       "      <th>6</th>\n",
       "      <td>Can you explain why there was a year-over-year...</td>\n",
       "      <td>f5f5ee2a</td>\n",
       "      <td>Apple Inc.</td>\n",
       "    </tr>\n",
       "    <tr>\n",
       "      <th>7</th>\n",
       "      <td>What drove the rise in R&amp;D spending in 2023?</td>\n",
       "      <td>f5f5ee2a</td>\n",
       "      <td>Apple Inc.</td>\n",
       "    </tr>\n",
       "    <tr>\n",
       "      <th>8</th>\n",
       "      <td>Why did headcount-related expenses influence R...</td>\n",
       "      <td>f5f5ee2a</td>\n",
       "      <td>Apple Inc.</td>\n",
       "    </tr>\n",
       "    <tr>\n",
       "      <th>9</th>\n",
       "      <td>What aspect of R&amp;D expenditures saw significan...</td>\n",
       "      <td>f5f5ee2a</td>\n",
       "      <td>Apple Inc.</td>\n",
       "    </tr>\n",
       "  </tbody>\n",
       "</table>\n",
       "</div>"
      ],
      "text/plain": [
       "                                            question        id     company\n",
       "0  What was the contribution of direct sales chan...  23a4214a  Apple Inc.\n",
       "1  Can you tell me the percentage of total net sa...  23a4214a  Apple Inc.\n",
       "2  In 2023, how much of the Company's sales came ...  23a4214a  Apple Inc.\n",
       "3  For the Company in 2023, what fraction of net ...  23a4214a  Apple Inc.\n",
       "4  What portion of the Company's net sales was so...  23a4214a  Apple Inc.\n",
       "5  What factors contributed to the growth in R&D ...  f5f5ee2a  Apple Inc.\n",
       "6  Can you explain why there was a year-over-year...  f5f5ee2a  Apple Inc.\n",
       "7       What drove the rise in R&D spending in 2023?  f5f5ee2a  Apple Inc.\n",
       "8  Why did headcount-related expenses influence R...  f5f5ee2a  Apple Inc.\n",
       "9  What aspect of R&D expenditures saw significan...  f5f5ee2a  Apple Inc."
      ]
     },
     "execution_count": 65,
     "metadata": {},
     "output_type": "execute_result"
    }
   ],
   "source": [
    "# Creating the Ground truth dataframe\n",
    "ground_truth = pd.DataFrame(gt_results)\n",
    "# Examine the first entries of the ground truth dataset\n",
    "ground_truth.head(10)"
   ]
  },
  {
   "cell_type": "code",
   "execution_count": 66,
   "metadata": {},
   "outputs": [],
   "source": [
    "# Saving the data for further use\n",
    "ground_truth.to_csv('ground_truth.csv', index=False)"
   ]
  }
 ],
 "metadata": {
  "kernelspec": {
   "display_name": "LLMZoomcamp",
   "language": "python",
   "name": "python3"
  },
  "language_info": {
   "codemirror_mode": {
    "name": "ipython",
    "version": 3
   },
   "file_extension": ".py",
   "mimetype": "text/x-python",
   "name": "python",
   "nbconvert_exporter": "python",
   "pygments_lexer": "ipython3",
   "version": "3.10.14"
  }
 },
 "nbformat": 4,
 "nbformat_minor": 2
}
