{
 "cells": [
  {
   "cell_type": "code",
   "execution_count": 1,
   "metadata": {},
   "outputs": [
    {
     "name": "stderr",
     "output_type": "stream",
     "text": [
      "/Users/georgestavrakis/opt/anaconda3/envs/LLMZoomcamp/lib/python3.10/site-packages/sentence_transformers/cross_encoder/CrossEncoder.py:13: TqdmExperimentalWarning: Using `tqdm.autonotebook.tqdm` in notebook mode. Use `tqdm.tqdm` instead to force console mode (e.g. in jupyter console)\n",
      "  from tqdm.autonotebook import tqdm, trange\n"
     ]
    }
   ],
   "source": [
    "# Importing necessary libraries\n",
    "import pandas as pd\n",
    "from elasticsearch import Elasticsearch\n",
    "from tqdm import tqdm\n",
    "from openai import OpenAI\n",
    "from sentence_transformers import SentenceTransformer\n",
    "from dotenv import load_dotenv\n",
    "import os"
   ]
  },
  {
   "cell_type": "code",
   "execution_count": 3,
   "metadata": {},
   "outputs": [
    {
     "data": {
      "text/plain": [
       "True"
      ]
     },
     "execution_count": 3,
     "metadata": {},
     "output_type": "execute_result"
    }
   ],
   "source": [
    "# Load environment variables from .envrc for the Chat GPT\n",
    "load_dotenv(\"../.envrc\")"
   ]
  },
  {
   "cell_type": "code",
   "execution_count": 6,
   "metadata": {},
   "outputs": [],
   "source": [
    "# Load the QA dataset to index\n",
    "data = pd.read_csv('../data/investment_data.csv') # Could be the sample \n",
    "records = data.to_dict(orient='records')\n",
    "# Load the ground truth dataset\n",
    "ground_truth_df = pd.read_csv('../retrieval_evaluation/ground_truth.csv')\n",
    "ground_truth = ground_truth_df.to_dict(orient='records')"
   ]
  },
  {
   "cell_type": "markdown",
   "metadata": {},
   "source": [
    "## Setting up the Optimal Retieval Part"
   ]
  },
  {
   "cell_type": "code",
   "execution_count": 8,
   "metadata": {},
   "outputs": [
    {
     "name": "stderr",
     "output_type": "stream",
     "text": [
      "/Users/georgestavrakis/opt/anaconda3/envs/LLMZoomcamp/lib/python3.10/site-packages/transformers/tokenization_utils_base.py:1601: FutureWarning: `clean_up_tokenization_spaces` was not set. It will be set to `True` by default. This behavior will be depracted in transformers v4.45, and will be then set to `False` by default. For more details check this issue: https://github.com/huggingface/transformers/issues/31884\n",
      "  warnings.warn(\n",
      "100%|██████████| 6990/6990 [04:40<00:00, 24.90it/s]\n"
     ]
    }
   ],
   "source": [
    "# Initialize the selected model to create the embeddings\n",
    "model = SentenceTransformer(\"multi-qa-MiniLM-L6-cos-v1\")\n",
    "\n",
    "# Create the embeddings for each record in our QA dataset\n",
    "for record in tqdm(records):\n",
    "    # Extract the text fields you want to embed along with threir combinations\n",
    "    question_answer_context = record['question'] + ' ' + record['answer'] + ' ' + record['context']\n",
    "    # Create the embedding for each text field\n",
    "    record['question_answer_context_vector'] = model.encode(question_answer_context)"
   ]
  },
  {
   "cell_type": "code",
   "execution_count": 11,
   "metadata": {},
   "outputs": [
    {
     "name": "stdout",
     "output_type": "stream",
     "text": [
      "{'acknowledged': True, 'shards_acknowledged': True, 'index': 'investment-info'}\n"
     ]
    },
    {
     "name": "stderr",
     "output_type": "stream",
     "text": [
      "100%|██████████| 6990/6990 [00:24<00:00, 289.58it/s]\n"
     ]
    }
   ],
   "source": [
    "# Initialize the client \n",
    "es_client = Elasticsearch('http://localhost:9200')\n",
    "\n",
    "# Create the Schema of the Elastic Search Index for vector search\n",
    "index_settings = {\n",
    "    \"settings\": {\n",
    "        \"number_of_shards\": 1,\n",
    "        \"number_of_replicas\": 0\n",
    "    },\n",
    "    \"mappings\": {\n",
    "        \"properties\": {\n",
    "            \"question\": {\"type\": \"text\"},\n",
    "            \"answer\": {\"type\": \"text\"},\n",
    "            \"context\": {\"type\": \"text\"},\n",
    "            \"ticker\": {\"type\": \"keyword\"}, \n",
    "            \"company\": {\"type\": \"keyword\"},\n",
    "            \"id\": {\"type\": \"keyword\"},\n",
    "            \"question_answer_context_vector\": {\n",
    "                \"type\": \"dense_vector\",\n",
    "                \"dims\": 384,             \n",
    "                \"index\": True,\n",
    "                \"similarity\": \"cosine\"\n",
    "            }\n",
    "        }\n",
    "    }\n",
    "}\n",
    "\n",
    "# Provide the name of the index\n",
    "index_name = \"investment-info\"\n",
    "# Check if the index exists\n",
    "if es_client.indices.exists(index=index_name):\n",
    "    # Delete the existing index\n",
    "    es_client.indices.delete(index=index_name)\n",
    "# Create the elastic search index\n",
    "response = es_client.indices.create(index=index_name, body=index_settings)\n",
    "# Verify that elastic search is created\n",
    "print(response)\n",
    "\n",
    "# Fetch all the documents into the elastic search index\n",
    "for record in tqdm(records):\n",
    "    es_client.index(index = index_name, document=record)\n",
    "\n",
    "# Adjusting the ES query for hybrid search with the best of two options\n",
    "def document_search(query, vector, company, a = 0.75):\n",
    "    # This is the query for the vector search with the best field \n",
    "    vector_query = {\n",
    "        \"field\": 'question_answer_context_vector',\n",
    "        \"query_vector\": vector, # This will recieve a vector of the user query\n",
    "        \"k\": 5,\n",
    "        \"num_candidates\": 10000,\n",
    "        \"boost\": a, # Here you can set up the weight the vector search will have in the results\n",
    "        \"filter\": {\n",
    "            \"term\": {\n",
    "                \"company\": company\n",
    "            }\n",
    "        }\n",
    "    }\n",
    "    # This is the query for the keyword search with best boosting\n",
    "    keyword_query = {\n",
    "        \"bool\": {\n",
    "            \"must\": {\n",
    "                \"multi_match\": {\n",
    "                    \"query\": query, # This will recieve the user query itself\n",
    "                    \"fields\": [\"question\", \"answer\", \"context\"],\n",
    "                    \"type\": \"best_fields\",\n",
    "                    \"boost\": 1-a, # Here you can set up the weight the keyword search will have in the results\n",
    "                }\n",
    "            },\n",
    "            \"filter\": {\n",
    "                \"term\": {\n",
    "                    \"company\": company\n",
    "                }\n",
    "            }\n",
    "        }\n",
    "    }\n",
    "    # Here is the combination of the two search methods\n",
    "    search_query = {\n",
    "        \"knn\": vector_query,\n",
    "        \"query\": keyword_query,\n",
    "        \"size\": 5,   # This is the number of the returned documents\n",
    "        \"_source\": ['question', 'answer', 'context', 'ticker' ,'company' ,'id'] # The fields that will be returned for each retrieved document \n",
    "    }\n",
    "\n",
    "    es_results = es_client.search(\n",
    "        index=index_name,\n",
    "        body=search_query\n",
    "    )\n",
    "    \n",
    "    result_docs = []\n",
    "    \n",
    "    for hit in es_results['hits']['hits']:\n",
    "        result_docs.append(hit['_source'])\n",
    "\n",
    "    return result_docs"
   ]
  },
  {
   "cell_type": "code",
   "execution_count": 16,
   "metadata": {},
   "outputs": [],
   "source": [
    "# Create the function will generate the context\n",
    "def context_generation(retrieved_docs):\n",
    "    # Initialize context\n",
    "    context = ''\n",
    "    # Create context for each document\n",
    "    for record in retrieved_docs:\n",
    "        context += 'question: {question} answer: {answer} \\n\\n'.format(**record)\n",
    "    # Return context\n",
    "    return context\n",
    "\n",
    "# Create the prompt template\n",
    "prompt_template = '''\n",
    "You are an Investment Assistant with deep expertise in financial markets.\n",
    "Provide a fact-based answer to the user's QUESTION strictly using the information provided in the CONTEXT. \n",
    "Do not include opinions or external knowledge.\n",
    "\n",
    "QUESTION: {question}\n",
    "\n",
    "CONTEXT: \n",
    "{context}\n",
    "'''.strip()\n",
    "\n",
    "# Create a function to create the prompt\n",
    "def prompt_generation(query, retrieved_docs, prompt_template = prompt_template):\n",
    "    # Create the context\n",
    "    prompt_context = {}\n",
    "    prompt_context['question'] = query\n",
    "    prompt_context['context'] = context_generation(retrieved_docs)\n",
    "    # Generate the prompt\n",
    "    prompt = prompt_template.format(**prompt_context)\n",
    "    return prompt"
   ]
  },
  {
   "cell_type": "code",
   "execution_count": 15,
   "metadata": {},
   "outputs": [],
   "source": [
    "# Initialize the openai instance\n",
    "client = OpenAI()\n",
    "\n",
    "# Create the function to request an answer from an LLM\n",
    "def ask_llm(prompt, model='gpt-4o-mini'):\n",
    "    # Create the request body and make the request\n",
    "    response = client.chat.completions.create(\n",
    "        model=model,\n",
    "        messages=[{\"role\": \"user\", \"content\": prompt}]\n",
    "    )\n",
    "    \n",
    "    return response.choices[0].message.content"
   ]
  },
  {
   "cell_type": "code",
   "execution_count": 17,
   "metadata": {},
   "outputs": [],
   "source": [
    "# Create the RAG function combining all the above information\n",
    "def investment_assistant(model, query, prompt_template = prompt_template):\n",
    "    # Retrieve the relevant documents\n",
    "    relevant_docs = document_search(query)\n",
    "    # Create the prompt for the model\n",
    "    prompt = prompt_generation(query, relevant_docs, prompt_template = prompt_template)\n",
    "    # Ask the LLM model\n",
    "    response = ask_llm(prompt)\n",
    "    return response"
   ]
  },
  {
   "cell_type": "markdown",
   "metadata": {},
   "source": [
    "### Examine different GPT models to Enchance RAG Results"
   ]
  },
  {
   "cell_type": "code",
   "execution_count": null,
   "metadata": {},
   "outputs": [],
   "source": []
  },
  {
   "cell_type": "code",
   "execution_count": 12,
   "metadata": {},
   "outputs": [],
   "source": [
    "# Selecting 2 affortable models to examine\n",
    "models = ['gpt-3.5-turbo','gpt-4o-mini']"
   ]
  },
  {
   "cell_type": "code",
   "execution_count": null,
   "metadata": {},
   "outputs": [],
   "source": []
  },
  {
   "cell_type": "markdown",
   "metadata": {},
   "source": [
    "## Perform Prompt engineering to Enchance RAG Results"
   ]
  },
  {
   "cell_type": "markdown",
   "metadata": {},
   "source": []
  }
 ],
 "metadata": {
  "kernelspec": {
   "display_name": "LLMZoomcamp",
   "language": "python",
   "name": "python3"
  },
  "language_info": {
   "codemirror_mode": {
    "name": "ipython",
    "version": 3
   },
   "file_extension": ".py",
   "mimetype": "text/x-python",
   "name": "python",
   "nbconvert_exporter": "python",
   "pygments_lexer": "ipython3",
   "version": "3.10.14"
  }
 },
 "nbformat": 4,
 "nbformat_minor": 2
}
